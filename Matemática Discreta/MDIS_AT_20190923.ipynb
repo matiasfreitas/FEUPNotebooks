{
 "cells": [
  {
   "cell_type": "markdown",
   "metadata": {},
   "source": [
    "Logica Proposicional. Metódos de Prova em logica proposional"
   ]
  },
  {
   "cell_type": "raw",
   "metadata": {},
   "source": [
    "Quantificadores e Representação do conhecimento"
   ]
  },
  {
   "cell_type": "markdown",
   "metadata": {},
   "source": [
    "Introdução a teoria dos numeros"
   ]
  },
  {
   "cell_type": "markdown",
   "metadata": {},
   "source": [
    "Congruencias e equações de artimetica modular"
   ]
  },
  {
   "cell_type": "raw",
   "metadata": {},
   "source": [
    "Indução e recursão. Relações de recorrecncia"
   ]
  },
  {
   "cell_type": "markdown",
   "metadata": {},
   "source": [
    "Conjuntos, relações e ordens parciais"
   ]
  },
  {
   "cell_type": "markdown",
   "metadata": {},
   "source": [
    "Funções"
   ]
  },
  {
   "cell_type": "markdown",
   "metadata": {},
   "source": [
    "Aulas teoricas: Exposição formal da materia e apresentação e disucssão de exemplos"
   ]
  },
  {
   "cell_type": "markdown",
   "metadata": {},
   "source": [
    "Aulas práticas: Exercicios a realizar com o software LPL, com folha de calculo e em papel."
   ]
  },
  {
   "cell_type": "markdown",
   "metadata": {},
   "source": [
    "Moodle: Para apresentações, enunciados de problemas, discussão de dúvidas, testes"
   ]
  },
  {
   "cell_type": "markdown",
   "metadata": {},
   "source": [
    "Teste 1: \n",
    "Logica Proposicional: 21.10.2019\n",
    "Logica de 1º Ordem: 18.11.2019 \n",
    "Indução - Sequencias: 16.12.2019 \n",
    "Conjuntos - congruência: 13.01.2020"
   ]
  },
  {
   "cell_type": "markdown",
   "metadata": {},
   "source": [
    "Obtenção de Frequencia: Presença nas aulas + 7.5 na nota final"
   ]
  },
  {
   "cell_type": "code",
   "execution_count": 22,
   "metadata": {},
   "outputs": [],
   "source": [
    "P1 = 20\n",
    "P2 = 20\n",
    "P3 = 0\n",
    "P4 = 20"
   ]
  },
  {
   "cell_type": "code",
   "execution_count": 23,
   "metadata": {},
   "outputs": [
    {
     "name": "stdout",
     "output_type": "stream",
     "text": [
      "18.75\n"
     ]
    }
   ],
   "source": [
    "Nota = (P1+P2+P3+P4 - min([P1,P2,P3,P4])*0.8)/3.2\n",
    "print(Nota)"
   ]
  },
  {
   "cell_type": "markdown",
   "metadata": {},
   "source": [
    "Menor nota vale 5/80. As outras são proximo de 24/80 "
   ]
  },
  {
   "cell_type": "markdown",
   "metadata": {},
   "source": [
    "LOGICA PROPOSICIONAL"
   ]
  },
  {
   "cell_type": "markdown",
   "metadata": {},
   "source": [
    "Lógica de primeira ordem (LPO) é a familia de linguagens:\n",
    "Partilham Gramática\n",
    "Partilham conetivas e quantificadores\n",
    "Diferem no vocabulário usado nas formulas básicas"
   ]
  },
  {
   "cell_type": "markdown",
   "metadata": {},
   "source": [
    "Formulas Atómicas -- frases básicas da Língua Naturual (LN)\n",
    "Nomes Ligados por predicados:\n",
    "Jona Corre\n",
    "Miguel vive no Porto"
   ]
  },
  {
   "cell_type": "markdown",
   "metadata": {},
   "source": [
    "Simbolos usados para se referir um individuo fixo\n",
    "Nomes em LN são habitualmente ambíguos\n",
    "mesmo nome para individuos diferentes\n",
    "nomes desprovidos de referentes: Pai Natal\n",
    "Nome em LPO refere exatamante 1 Objeto: Cada nome tem de nomear 1 objeto"
   ]
  },
  {
   "cell_type": "markdown",
   "metadata": {},
   "source": [
    "LN: Frase nominal + Frase Verbal"
   ]
  },
  {
   "cell_type": "markdown",
   "metadata": {},
   "source": [
    "Clara gosta de Pedro"
   ]
  },
  {
   "cell_type": "markdown",
   "metadata": {},
   "source": [
    "LPO: Sujeitos, predicados"
   ]
  },
  {
   "cell_type": "markdown",
   "metadata": {},
   "source": [
    "Gostar(clara, pedro)"
   ]
  },
  {
   "cell_type": "markdown",
   "metadata": {},
   "source": [
    "LN tem aridade (quantidade de argumentos) Variaveis"
   ]
  },
  {
   "cell_type": "markdown",
   "metadata": {},
   "source": [
    "LPO tem aridade variavel"
   ]
  },
  {
   "cell_type": "markdown",
   "metadata": {},
   "source": [
    "Ana gosta\n",
    "Ana gosta de Rui\n",
    "Ana gosta de Rui mais que Pedro"
   ]
  },
  {
   "cell_type": "raw",
   "metadata": {},
   "source": [
    "Predicados começam com letra maiuscula e são verdadeiros ou falsos"
   ]
  },
  {
   "cell_type": "markdown",
   "metadata": {},
   "source": [
    "LN tem predicados de significado vago:"
   ]
  },
  {
   "cell_type": "markdown",
   "metadata": {},
   "source": [
    "Ana é jovem.\n",
    "Se ana tiver 15 anos é verdadeiro\n",
    "Se ana tiver 96 anos, é falso.\n",
    "E 25 ANOS?"
   ]
  },
  {
   "cell_type": "markdown",
   "metadata": {},
   "source": [
    "LPO tem predicados tem signficado bem definidos"
   ]
  },
  {
   "cell_type": "markdown",
   "metadata": {},
   "source": [
    "Pré fixa: = (A,B), Infixa A = B, Pós Fixa (A,B) ="
   ]
  },
  {
   "cell_type": "markdown",
   "metadata": {},
   "source": [
    "= Identidade ∈ Pertence"
   ]
  },
  {
   "cell_type": "markdown",
   "metadata": {},
   "source": [
    "Funções começam com Minuscula e são correspondencias entre objetos"
   ]
  }
 ],
 "metadata": {
  "kernelspec": {
   "display_name": "Python 3",
   "language": "python",
   "name": "python3"
  },
  "language_info": {
   "codemirror_mode": {
    "name": "ipython",
    "version": 3
   },
   "file_extension": ".py",
   "mimetype": "text/x-python",
   "name": "python",
   "nbconvert_exporter": "python",
   "pygments_lexer": "ipython3",
   "version": "3.7.3"
  }
 },
 "nbformat": 4,
 "nbformat_minor": 2
}
