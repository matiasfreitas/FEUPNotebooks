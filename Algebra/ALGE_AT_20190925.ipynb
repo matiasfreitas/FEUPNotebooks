git config --global user.name "John Doe"{
 "cells": [
  {
   "cell_type": "markdown",
   "metadata": {},
   "source": [
    "Tipos de Matrizes"
   ]
  },
  {
   "cell_type": "code",
   "execution_count": 2,
   "metadata": {},
   "outputs": [],
   "source": [
    "import numpy as np"
   ]
  },
  {
   "cell_type": "code",
   "execution_count": 17,
   "metadata": {},
   "outputs": [],
   "source": [
    "#Matrix Coluna\n",
    "#Matrix[i,1]\n",
    "coluna = np.matrix([[1],\n",
    "                   [2],\n",
    "                   [3]])\n",
    "#No caso, coluna[3,i]"
   ]
  },
  {
   "cell_type": "code",
   "execution_count": 18,
   "metadata": {},
   "outputs": [],
   "source": [
    "#Matrix Linha\n",
    "#Matrix[1,i]\n",
    "\n",
    "Linha = np.matrix([[1,2,3]])\n",
    "#No caso, linha[i,3]"
   ]
  },
  {
   "cell_type": "code",
   "execution_count": 19,
   "metadata": {},
   "outputs": [],
   "source": [
    "#Matrix Quadrada\n",
    "#Matrix[i,i]\n",
    "Quadrada = np.matrix([[1,2,3],\n",
    "                     [3,1,2],\n",
    "                     [2,3,1]])\n",
    "#No caso, Quadrada[3,3]"
   ]
  },
  {
   "cell_type": "code",
   "execution_count": 22,
   "metadata": {},
   "outputs": [
    {
     "name": "stdout",
     "output_type": "stream",
     "text": [
      "[[1 3]\n",
      " [2 1]\n",
      " [3 2]]\n"
     ]
    }
   ],
   "source": [
    "#Matriz Transposta\n",
    "#Ou Seja, matrix[i,j] == matrix[j,i]\n",
    "Matrix = np.matrix([[1,2,3],\n",
    "                   [3,1,2]])\n",
    "\n",
    "MatrixT = np.matrix([[1,3],\n",
    "                    [2,1],\n",
    "                    [3,2]])\n",
    "print(Matrix.transpose())"
   ]
  },
  {
   "cell_type": "code",
   "execution_count": 16,
   "metadata": {},
   "outputs": [
    {
     "name": "stdout",
     "output_type": "stream",
     "text": [
      "[[0 6 2]]\n"
     ]
    }
   ],
   "source": [
    "#Soma de Matrizes\n",
    "#É comutativa\n",
    "#Necessita do mesmo tamanho, ou seja, A tem que ter n linhas e i colunas, assim como B, e o resultado C\n",
    "#Algoritmo:  C[n,i] = A[n,i] + B[n,i] para cada n e i\n",
    "A = np.matrix([[1,2,3]]) \n",
    "B = np.matrix([[-1,4,-1]]) \n",
    "#A + B == np.array([[0,6,2]])\n",
    "C = A + B\n",
    "print (C)\n"
   ]
  },
  {
   "cell_type": "code",
   "execution_count": 42,
   "metadata": {},
   "outputs": [],
   "source": [
    "#Multiplicação de Matrizes\n",
    "#Necessita que A tenha o mesmo numero de colunas que B tem de linhas.\n",
    "#O resultado é o numero de linhas de A, e o numero de colunas de B\n",
    "#A[J,N] * B[N,D] = C[J,D]\n",
    "#Algoritmo: C[1,1] = A[1,1]*B[1,1] + A[1,2] + B[2,1] + (...) + A[1, N] + B[N,1]"
   ]
  },
  {
   "cell_type": "code",
   "execution_count": 15,
   "metadata": {
    "scrolled": true
   },
   "outputs": [
    {
     "name": "stdout",
     "output_type": "stream",
     "text": [
      "[[10 20]\n",
      " [ 8 22]]\n"
     ]
    }
   ],
   "source": [
    "#A[3,2]\n",
    "A = np.matrix([[1,2,3],\n",
    "              [1,4,1]])\n",
    "#B[2,3]\n",
    "B = np.matrix([[2,3],\n",
    "              [1,4],\n",
    "              [2,3]]) \n",
    "#A * B = C[2,2]\n",
    "#C == np.array([[10,20],\n",
    "#              [8,22]])\n",
    "C = A * B\n",
    "print(C)\n",
    "\n"
   ]
  },
  {
   "cell_type": "code",
   "execution_count": 14,
   "metadata": {},
   "outputs": [
    {
     "name": "stdout",
     "output_type": "stream",
     "text": [
      "[[ 6  9 12]]\n"
     ]
    }
   ],
   "source": [
    "#Muplicação de Escalar\n",
    "#Multiplica tudo pelo escalar(ou numero, em português)\n",
    "X = np.matrix([2,3,4])\n",
    "#3*X = np.array([6,9,12])\n",
    "#3*X[1,1] = 3*2\n",
    "print(X*3)"
   ]
  },
  {
   "cell_type": "code",
   "execution_count": 11,
   "metadata": {},
   "outputs": [
    {
     "name": "stdout",
     "output_type": "stream",
     "text": [
      "43\n"
     ]
    }
   ],
   "source": [
    "#Traço Matriz Quadradar\n",
    "#Tr(A) = Σ i=range(1,n) A[i,i]\n",
    "#Ou seja, soma de todos os elementos da diagonal principal, ou seja A[1,1], A[2,2], ..., A[n, n]\n",
    "Quadrada = np.matrix([[10,2,3],\n",
    "                     [3,22,2],\n",
    "                     [2,3,11]])\n",
    "Tr = 0\n",
    "for x in range(len(Quadrada)):\n",
    "    Tr += Quadrada[x,x]\n",
    "print(Tr)\n",
    "\n",
    "#No caso, 10 + 22 + 11\n",
    "    "
   ]
  },
  {
   "cell_type": "code",
   "execution_count": 23,
   "metadata": {},
   "outputs": [],
   "source": [
    "#IMPORTANTE PARA OS PRÓXIMOS TÓPICOS\n",
    "#Definiçoes de de Matrix Quadrada\n",
    "#A diagonal da Matrix composta por A[1,1], A[2,2],(...), A[n,n] se chama diagonal principal\n",
    "#A diagonal da Matrix composta por A[1,1+1], A[2,2+1],(...), A[n,n+1] se chama diagonal superior\n",
    "#A diagonal da Matrix composta por A[1,1-1], A[2,2-1],(...), A[n,n-1] se chama diagonal inferior\n",
    "#A diagonal da Matrix composta por A[1,N], A[2,N-1],(...), A[n,1] se chama diagonal secundaria\n",
    "#Elementos opostos de uma matrix se invertem as cordenadas. A[I,J] é oposto de A[J,I]. I diferente de J\n",
    "Quadrada = np.matrix([[10,43,2],\n",
    "                     [5,22,21],\n",
    "                     [10,3,12]])\n",
    "#Diagonal principal é [10,22,12]\n",
    "#Diagonal superior é [43,21]\n",
    "#Diagonal inferior é [5,3]\n",
    "#Diagonal secundaria é [2,22,10]\n",
    "#Quadrada[1,3] == 10\n",
    "#Oposto de Quadrada[1,3] == Quadrada[3,1] == 2"
   ]
  },
  {
   "cell_type": "code",
   "execution_count": null,
   "metadata": {},
   "outputs": [],
   "source": [
    "#Matriz Identidade\n",
    "#É uma matriz quadrada com 1 na diagonal principal, e elementos nulos, ou 0, no restante.\n",
    "#A ordem da matriz é o numero de linha, de coluna e de 1's.\n",
    "Identidade3 = np.matrix([[1,0,0],\n",
    "                         [0,1,0],\n",
    "                         [0,0,1]])"
   ]
  },
  {
   "cell_type": "code",
   "execution_count": null,
   "metadata": {},
   "outputs": [],
   "source": [
    "#Matriz Identidade\n",
    "#É uma matriz quadrada com o mesmo escalar (Ou numero em bom português) na diagonal principal, e elementos nulos, ou 0, no restante.\n",
    "EscalarDo3 = np.matrix([[3,0,0],\n",
    "                        [0,3,0],\n",
    "                        [0,0,3]])"
   ]
  },
  {
   "cell_type": "code",
   "execution_count": null,
   "metadata": {},
   "outputs": [],
   "source": [
    "#Matriz Triangular Inferior\n",
    "#Matriz onde todos os elementos acima da diagonal principal são zero\n",
    "MTI = np.matrix([[10,0,0],\n",
    "                 [5,22,0],\n",
    "                 [10,3,2]])\n"
   ]
  },
  {
   "cell_type": "code",
   "execution_count": null,
   "metadata": {},
   "outputs": [],
   "source": [
    "#Matriz Triangular Superior\n",
    "#Matriz onde todos os elementos abaixo da diagonal principal são zero\n",
    "MTS = np.matrix([[10,43,2],\n",
    "                 [0,22,21],\n",
    "                 [0,0,12]])"
   ]
  },
  {
   "cell_type": "code",
   "execution_count": null,
   "metadata": {},
   "outputs": [],
   "source": [
    "#Matriz Diagonal\n",
    "#Matriz onde todos os elementos abaixo e cima da diagonal principal são zero\n",
    "MD = np.matrix( [[0,0,0],\n",
    "                [0,2,0],\n",
    "                [0,0,1]])"
   ]
  },
  {
   "cell_type": "code",
   "execution_count": 32,
   "metadata": {},
   "outputs": [
    {
     "name": "stdout",
     "output_type": "stream",
     "text": [
      "Matriz Inversa = 1/4\n",
      "[[ 1.  0.  1.]\n",
      " [ 2. -4.  2.]\n",
      " [-3.  0.  1.]]\n"
     ]
    }
   ],
   "source": [
    "#Matrix Inversa\n",
    "#Tanto a matrix, quanto a matrix inversa tem que ser quadradas\n",
    "#A inversa da matrix identidade é ela mesma.\n",
    "#Se exisitr, a matrix inversa é unica\n",
    "# A * AInversa = Identidade\n",
    "\n",
    "Quadrada = np.matrix([[1,0,-1],\n",
    "                      [2,-1,0],\n",
    "                      [3,0,1]])\n",
    "print(\"Matriz Inversa = 1/4\")\n",
    "print(Quadrada.I*4)\n"
   ]
  },
  {
   "cell_type": "code",
   "execution_count": null,
   "metadata": {},
   "outputs": [],
   "source": []
  }
 ],
 "metadata": {
  "kernelspec": {
   "display_name": "Python 3",
   "language": "python",
   "name": "python3"
  },
  "language_info": {
   "codemirror_mode": {
    "name": "ipython",
    "version": 3
   },
   "file_extension": ".py",
   "mimetype": "text/x-python",
   "name": "python",
   "nbconvert_exporter": "python",
   "pygments_lexer": "ipython3",
   "version": "3.7.3"
  }
 },
 "nbformat": 4,
 "nbformat_minor": 2
}
