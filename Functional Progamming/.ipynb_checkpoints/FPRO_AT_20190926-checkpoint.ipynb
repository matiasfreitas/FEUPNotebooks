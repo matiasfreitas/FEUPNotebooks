{
 "cells": [
  {
   "cell_type": "code",
   "execution_count": null,
   "metadata": {},
   "outputs": [],
   "source": [
    "Tipos de dados:\n",
    "    int: Numeros inteiros. Ex: 1, 10, 100, -27886\n",
    "    float: Numeros fracionarios. Ex: 1.5, 0.33333333333, 21.3, 25.66666\n",
    "    complex: Numeros complexos. Ex: 1 + 3j, 10 + 5j, 1.5 + 2.5j\n",
    "    str: conjuntos em sequencia de letras e simbolos: \"Prazer, esse é o tutorial de FPRO\"\n",
    "    bool = Sinal verdadeiro ou falso, ligado ou desligado, 1 ou 0: True, 1, False, 0"
   ]
  },
  {
   "cell_type": "code",
   "execution_count": null,
   "metadata": {},
   "outputs": [],
   "source": [
    "Tipos básicos de estruturas de dados:\n",
    "    Ordenada\n",
    "        Mutavel:\n",
    "            Lists: São conjuntos de dados de diferentes tipos com uma ordem, e que podem receber valores novos.\n",
    "                A = [a,1,2,3,b,d,k]\n",
    "        Imutável:\n",
    "            Tuples: São conjuntos de dados de diferentes tipos com uma ordem, e que NÃO podem receber valores novos.\n",
    "                A = (a,1,2,3,b,d,k)\n",
    "    Não ordenada:\n",
    "        Mutavel:\n",
    "            Sets: São conjuntos de dados de diferentes tipos sem ordem, e que podem receber valores novos.\n",
    "                A = set([a,1,2,3,b,d,k])\n",
    "        Imutavel:\n",
    "            Frozensets: São conjuntos de dados de diferentes tipos sem ordem, e que NÃO podem receber valores novos.\n",
    "                A = frozenset([a,1,2,3,b,d,k])\n",
    "    Casos Especiais:\n",
    "        Dicts: Dicionarios, como no cotidiano, tem um \"nome\" e um \"signficado\", ou em python, uma chave e um valor.\n",
    "            Ex: A = {\"dez\":10, \"um\": 1, \"1000\":1000, \"chave\":\"valor\"}\n",
    "\n",
    "    Existem outros tipos mais avançados de estruturas de dados, como numpy.matrix, numpy.array, Counter.\n",
    "    Eles tem funcionalidades e vantagens sobre as estruturas básicas, mas são de uso mais especifico.\n",
    "            \n",
    "    \n",
    "   \n",
    "\n"
   ]
  },
  {
   "cell_type": "code",
   "execution_count": 1,
   "metadata": {},
   "outputs": [
    {
     "ename": "SyntaxError",
     "evalue": "invalid syntax (<ipython-input-1-3cd946a465da>, line 1)",
     "output_type": "error",
     "traceback": [
      "\u001b[0;36m  File \u001b[0;32m\"<ipython-input-1-3cd946a465da>\"\u001b[0;36m, line \u001b[0;32m1\u001b[0m\n\u001b[0;31m    Como acessar valores em lists:\u001b[0m\n\u001b[0m               ^\u001b[0m\n\u001b[0;31mSyntaxError\u001b[0m\u001b[0;31m:\u001b[0m invalid syntax\n"
     ]
    }
   ],
   "source": [
    "Como acessar valores em lists:\n",
    "    A = [1,2,3,4,5,6]\n",
    "    A[0] é igual a 1\n",
    "O index começa a contar no 0.\n",
    "\n",
    "Complicando: \n",
    "Como acessar valores de maneira complicada em lists de python:\n",
    "    A = [1,2,3,4,5,6]\n",
    "    A[1:4:-1] é igual a 4,3,2.\n",
    "    "
   ]
  },
  {
   "cell_type": "code",
   "execution_count": 3,
   "metadata": {},
   "outputs": [
    {
     "name": "stdout",
     "output_type": "stream",
     "text": [
      "[2, 3]\n"
     ]
    }
   ],
   "source": [
    "A = [1,2,3,4,5,6]\n",
    "print(A[1:4:])"
   ]
  },
  {
   "cell_type": "code",
   "execution_count": null,
   "metadata": {},
   "outputs": [],
   "source": []
  }
 ],
 "metadata": {
  "kernelspec": {
   "display_name": "Python 3",
   "language": "python",
   "name": "python3"
  },
  "language_info": {
   "codemirror_mode": {
    "name": "ipython",
    "version": 3
   },
   "file_extension": ".py",
   "mimetype": "text/x-python",
   "name": "python",
   "nbconvert_exporter": "python",
   "pygments_lexer": "ipython3",
   "version": "3.7.3"
  }
 },
 "nbformat": 4,
 "nbformat_minor": 2
}
