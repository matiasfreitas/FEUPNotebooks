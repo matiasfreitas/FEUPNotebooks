{
 "cells": [
  {
   "cell_type": "markdown",
   "metadata": {},
   "source": [
    "PARTE 1: Diferenciação e Integração\n",
    "    A) Diferenciação e aplicações na engenharia\n",
    "    B) Integração - Integral indefinido e definido\n",
    "    \n",
    "   "
   ]
  },
  {
   "cell_type": "markdown",
   "metadata": {},
   "source": [
    "Minitestes:\n",
    "1º Quinta, 21 de novembro de 2019\n",
    "2º Segunda, 20 de janeiro de 2020"
   ]
  },
  {
   "cell_type": "markdown",
   "metadata": {},
   "source": [
    "Aprovados 104\n",
    "Reprovados 28\n",
    "Não avalaidos 29"
   ]
  },
  {
   "cell_type": "markdown",
   "metadata": {},
   "source": [
    "Alexandre Afonso: Contatos: m215/L401 - Segunda 14/17h. \n",
    "Email: aafonso@fe.up.pt"
   ]
  },
  {
   "cell_type": "markdown",
   "metadata": {},
   "source": [
    "Luis Ferraz \n",
    "Email: lferras@fe.up.pt"
   ]
  },
  {
   "cell_type": "markdown",
   "metadata": {},
   "source": [
    "Sónia Pinto \n",
    "Email: spinto@fe.up.pt Sala M310"
   ]
  },
  {
   "cell_type": "code",
   "execution_count": null,
   "metadata": {},
   "outputs": [],
   "source": []
  }
 ],
 "metadata": {
  "kernelspec": {
   "display_name": "Python 3",
   "language": "python",
   "name": "python3"
  },
  "language_info": {
   "codemirror_mode": {
    "name": "ipython",
    "version": 3
   },
   "file_extension": ".py",
   "mimetype": "text/x-python",
   "name": "python",
   "nbconvert_exporter": "python",
   "pygments_lexer": "ipython3",
   "version": "3.7.3"
  }
 },
 "nbformat": 4,
 "nbformat_minor": 2
}
