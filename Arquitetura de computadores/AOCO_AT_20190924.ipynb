{
 "cells": [
  {
   "cell_type": "markdown",
   "metadata": {},
   "source": [
    "Computador automatico é uma maquina que: \n",
    "- Executa calculos\n",
    "- Para qualquer fim\n",
    "- Segue um algoritmo, programa que pode ser alterado\n",
    "- Programa também é informação\n",
    "- Pode ser realizado em diversas tecnologias: Mecanica, valvula, transitores.\n",
    "- Necessita de capacidade de armazenamento de informações."
   ]
  },
  {
   "cell_type": "markdown",
   "metadata": {},
   "source": [
    "Ou seja, é uma maquina que recebe, processa e produz INFORMAÇÃO"
   ]
  }
 ],
 "metadata": {
  "kernelspec": {
   "display_name": "Python 3",
   "language": "python",
   "name": "python3"
  },
  "language_info": {
   "codemirror_mode": {
    "name": "ipython",
    "version": 3
   },
   "file_extension": ".py",
   "mimetype": "text/x-python",
   "name": "python",
   "nbconvert_exporter": "python",
   "pygments_lexer": "ipython3",
   "version": "3.7.3"
  }
 },
 "nbformat": 4,
 "nbformat_minor": 2
}
